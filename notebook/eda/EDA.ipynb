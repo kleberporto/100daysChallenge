{
 "cells": [
  {
   "cell_type": "markdown",
   "id": "ac883bc5-583d-4bef-93ce-88361c03805b",
   "metadata": {},
   "source": [
    "# AQUISIÇÃO E PREPARAÇÃO DE DADOS DE REDES SOCIAIS VIA STREAMING UTILIZANDO APACHE SPARK\n",
    "\n",
    "<div style=\"text-align: right\">Kleber Porto dos Santos</div>\n",
    "\n",
    "_____\n",
    "\n",
    "\n",
    "Notebook para análise dos dados coletados através do Spark.\n"
   ]
  },
  {
   "cell_type": "code",
   "execution_count": 2,
   "id": "f64d2fe9-fc70-4e8c-8b88-7e9c6394fc81",
   "metadata": {},
   "outputs": [],
   "source": [
    "from pyspark.sql import SparkSession\n",
    "\n",
    "spark = SparkSession \\\n",
    "    .builder \\\n",
    "    .appName(\"TwitterDataEDA\") \\\n",
    "    .getOrCreate()"
   ]
  },
  {
   "cell_type": "code",
   "execution_count": null,
   "id": "eb64d396-e5cc-45be-865d-295b928372a2",
   "metadata": {},
   "outputs": [],
   "source": [
    "df = spark.read.csv('../../data/raw',header=True,inferSchema=True)"
   ]
  },
  {
   "cell_type": "code",
   "execution_count": null,
   "id": "21b1cba7-e8c8-422d-ac92-f45072f06424",
   "metadata": {},
   "outputs": [],
   "source": [
    "df.columns"
   ]
  },
  {
   "cell_type": "code",
   "execution_count": null,
   "id": "e6f0b6c3-f3c3-4abf-83fb-bd96283ef787",
   "metadata": {},
   "outputs": [],
   "source": [
    "df = df.withColumnRenamed('_c0','class').withColumnRenamed('_c1','text')"
   ]
  },
  {
   "cell_type": "code",
   "execution_count": null,
   "id": "3d8af780-eccd-4c6c-943c-a6f4d1c9599c",
   "metadata": {},
   "outputs": [],
   "source": [
    "df.show()"
   ]
  }
 ],
 "metadata": {
  "kernelspec": {
   "display_name": "Python 3",
   "language": "python",
   "name": "python3"
  },
  "language_info": {
   "codemirror_mode": {
    "name": "ipython",
    "version": 3
   },
   "file_extension": ".py",
   "mimetype": "text/x-python",
   "name": "python",
   "nbconvert_exporter": "python",
   "pygments_lexer": "ipython3",
   "version": "3.8.10"
  }
 },
 "nbformat": 4,
 "nbformat_minor": 5
}

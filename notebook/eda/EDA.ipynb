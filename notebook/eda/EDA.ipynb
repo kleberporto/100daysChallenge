{
 "cells": [
  {
   "cell_type": "markdown",
   "id": "ac883bc5-583d-4bef-93ce-88361c03805b",
   "metadata": {},
   "source": [
    "# AQUISIÇÃO E PREPARAÇÃO DE DADOS DE REDES SOCIAIS VIA STREAMING UTILIZANDO APACHE SPARK\n",
    "\n",
    "<div style=\"text-align: right\">Kleber Porto dos Santos</div>\n",
    "\n",
    "_____\n",
    "\n",
    "\n",
    "Notebook para análise dos dados coletados através do Spark.\n"
   ]
  },
  {
   "cell_type": "code",
   "execution_count": 1,
   "id": "f64d2fe9-fc70-4e8c-8b88-7e9c6394fc81",
   "metadata": {},
   "outputs": [],
   "source": [
    "from pyspark.sql import SparkSession\n",
    "\n",
    "spark = SparkSession \\\n",
    "    .builder \\\n",
    "    .appName(\"TwitterDataEDA\") \\\n",
    "    .getOrCreate()"
   ]
  },
  {
   "cell_type": "markdown",
   "id": "05a621a4-b387-4ce7-b221-a59313d12f6f",
   "metadata": {},
   "source": [
    "Carrega o local onde estão armazenados os arquivos criados para o Spark"
   ]
  },
  {
   "cell_type": "code",
   "execution_count": 2,
   "id": "eb64d396-e5cc-45be-865d-295b928372a2",
   "metadata": {},
   "outputs": [],
   "source": [
    "df = spark.read.csv('../../data/raw',header=False,inferSchema=False)"
   ]
  },
  {
   "cell_type": "markdown",
   "id": "9f821610-9931-4a07-9690-5a04d42d2367",
   "metadata": {},
   "source": [
    "Mostra uma prévia do DataFrame carregado.\n",
    "\n",
    "truncate = True para que as linhas não fiquem muito compridas e ilegíveis"
   ]
  },
  {
   "cell_type": "code",
   "execution_count": 3,
   "id": "445c5afc-e7d1-483d-85d4-d4b6b0275046",
   "metadata": {},
   "outputs": [
    {
     "name": "stdout",
     "output_type": "stream",
     "text": [
      "+-------------------+---------------+--------------------+--------------------+---+\n",
      "|                _c0|            _c1|                 _c2|                 _c3|_c4|\n",
      "+-------------------+---------------+--------------------+--------------------+---+\n",
      "|1411686882283511816|         lugwno|Sun Jul 04 14:02:...|RT @mckatiaafiel:...|140|\n",
      "|1411686899559940105|     Propalando|Sun Jul 04 14:02:...|@nildaalcarinque ...| 72|\n",
      "|1411686906165968900|        biagfig|Sun Jul 04 14:02:...|RT @DiogoGTB: Pes...|139|\n",
      "|1411686921147912195|  valmirconsoni|Sun Jul 04 14:02:...|RT @caiocopolla: ...|140|\n",
      "|1411686933387001857|  franciscaa_99|Sun Jul 04 14:02:...|RT @Kmbitches: Ta...|140|\n",
      "|1411686945177079814|  Djasantastico|Sun Jul 04 14:02:...|RT @_makavelijone...|140|\n",
      "|1411686954807222278|  AurineteTiago|Sun Jul 04 14:02:...|RT @senadorhumber...|139|\n",
      "|1411686885186052100|     AngeloFF04|Sun Jul 04 14:02:...|RT @Inesszinhaa: ...| 70|\n",
      "|1411686900939755523|        dehta_s|Sun Jul 04 14:02:...|RT @cinefilo_K: g...|139|\n",
      "|1411686912339943425| SigefredoSouza|Sun Jul 04 14:02:...|Segundo o deputad...|140|\n",
      "|1411686925224796162|_Juliana_Duarte|Sun Jul 04 14:02:...|RT @danielcarvalh...|140|\n",
      "|1411686935526051846| OriginalCarmo_|Sun Jul 04 14:02:...|RT @HelemAzevedo:...|140|\n",
      "|1411686946326384643|  JuvenazzoLuis|Sun Jul 04 14:02:...|RT @folha: Elio G...|140|\n",
      "|1411686956166172675|       gutoaqui|Sun Jul 04 14:02:...|Mais pela pela re...|140|\n",
      "|1411687305270677507|    reginazolet|Sun Jul 04 14:04:...|Mesmo que sujeito...|133|\n",
      "|1411687313609003008|      jguedes_s|Sun Jul 04 14:04:...|Não haveria corru...| 77|\n",
      "|1411687328402313221|________peralta|Sun Jul 04 14:04:...|RT @dxdxxxxxxxx: ...|140|\n",
      "|1411687345062092808|  Gislane_Elisa|Sun Jul 04 14:04:...|RT @caiocopolla: ...|140|\n",
      "|1411687349617111040|       itamarsz|Sun Jul 04 14:04:...|RT @caiocopolla: ...|140|\n",
      "|1411687373465849858|   SrCruelDeVil|Sun Jul 04 14:04:...|RT @OBrutoOficial...|137|\n",
      "+-------------------+---------------+--------------------+--------------------+---+\n",
      "only showing top 20 rows\n",
      "\n"
     ]
    }
   ],
   "source": [
    "df.show(truncate=True)"
   ]
  },
  {
   "cell_type": "markdown",
   "id": "787cf9db-a7b2-449d-923c-57e809bf681f",
   "metadata": {},
   "source": [
    "Renomeando as colunas e modificando os tipos"
   ]
  },
  {
   "cell_type": "code",
   "execution_count": 4,
   "id": "660e6617-028f-41ce-b912-b5673d483663",
   "metadata": {},
   "outputs": [],
   "source": [
    "from pyspark.sql.types import IntegerType"
   ]
  },
  {
   "cell_type": "code",
   "execution_count": 5,
   "id": "21b1cba7-e8c8-422d-ac92-f45072f06424",
   "metadata": {},
   "outputs": [
    {
     "data": {
      "text/plain": [
       "['_c0', '_c1', '_c2', '_c3', '_c4']"
      ]
     },
     "execution_count": 5,
     "metadata": {},
     "output_type": "execute_result"
    }
   ],
   "source": [
    "df.columns"
   ]
  },
  {
   "cell_type": "code",
   "execution_count": 8,
   "id": "e6f0b6c3-f3c3-4abf-83fb-bd96283ef787",
   "metadata": {},
   "outputs": [],
   "source": [
    "df = df.withColumnRenamed('_c0','User_ID') \\\n",
    "        .withColumnRenamed('_c1','User_Name')   \\\n",
    "        .withColumnRenamed('_c2', 'Date') \\\n",
    "        .withColumnRenamed('_c3', 'Tweet') \\\n",
    "        .withColumnRenamed('_c4', 'Length')"
   ]
  },
  {
   "cell_type": "code",
   "execution_count": 9,
   "id": "d2d46639-72d4-481a-adad-d4f0cbc2a699",
   "metadata": {},
   "outputs": [],
   "source": [
    "df = df.withColumn(\"Length\", df[\"Length\"].cast(IntegerType()))"
   ]
  },
  {
   "cell_type": "code",
   "execution_count": 10,
   "id": "3d8af780-eccd-4c6c-943c-a6f4d1c9599c",
   "metadata": {},
   "outputs": [
    {
     "name": "stdout",
     "output_type": "stream",
     "text": [
      "+-------------------+---------------+--------------------+--------------------+------+\n",
      "|            User_ID|      User_Name|                Date|               Tweet|Length|\n",
      "+-------------------+---------------+--------------------+--------------------+------+\n",
      "|1411686882283511816|         lugwno|Sun Jul 04 14:02:...|RT @mckatiaafiel:...|   140|\n",
      "|1411686899559940105|     Propalando|Sun Jul 04 14:02:...|@nildaalcarinque ...|    72|\n",
      "|1411686906165968900|        biagfig|Sun Jul 04 14:02:...|RT @DiogoGTB: Pes...|   139|\n",
      "|1411686921147912195|  valmirconsoni|Sun Jul 04 14:02:...|RT @caiocopolla: ...|   140|\n",
      "|1411686933387001857|  franciscaa_99|Sun Jul 04 14:02:...|RT @Kmbitches: Ta...|   140|\n",
      "|1411686945177079814|  Djasantastico|Sun Jul 04 14:02:...|RT @_makavelijone...|   140|\n",
      "|1411686954807222278|  AurineteTiago|Sun Jul 04 14:02:...|RT @senadorhumber...|   139|\n",
      "|1411686885186052100|     AngeloFF04|Sun Jul 04 14:02:...|RT @Inesszinhaa: ...|    70|\n",
      "|1411686900939755523|        dehta_s|Sun Jul 04 14:02:...|RT @cinefilo_K: g...|   139|\n",
      "|1411686912339943425| SigefredoSouza|Sun Jul 04 14:02:...|Segundo o deputad...|   140|\n",
      "|1411686925224796162|_Juliana_Duarte|Sun Jul 04 14:02:...|RT @danielcarvalh...|   140|\n",
      "|1411686935526051846| OriginalCarmo_|Sun Jul 04 14:02:...|RT @HelemAzevedo:...|   140|\n",
      "|1411686946326384643|  JuvenazzoLuis|Sun Jul 04 14:02:...|RT @folha: Elio G...|   140|\n",
      "|1411686956166172675|       gutoaqui|Sun Jul 04 14:02:...|Mais pela pela re...|   140|\n",
      "|1411687305270677507|    reginazolet|Sun Jul 04 14:04:...|Mesmo que sujeito...|   133|\n",
      "|1411687313609003008|      jguedes_s|Sun Jul 04 14:04:...|Não haveria corru...|    77|\n",
      "|1411687328402313221|________peralta|Sun Jul 04 14:04:...|RT @dxdxxxxxxxx: ...|   140|\n",
      "|1411687345062092808|  Gislane_Elisa|Sun Jul 04 14:04:...|RT @caiocopolla: ...|   140|\n",
      "|1411687349617111040|       itamarsz|Sun Jul 04 14:04:...|RT @caiocopolla: ...|   140|\n",
      "|1411687373465849858|   SrCruelDeVil|Sun Jul 04 14:04:...|RT @OBrutoOficial...|   137|\n",
      "+-------------------+---------------+--------------------+--------------------+------+\n",
      "only showing top 20 rows\n",
      "\n"
     ]
    }
   ],
   "source": [
    "df.show()"
   ]
  },
  {
   "cell_type": "code",
   "execution_count": 11,
   "id": "7167899f-02e3-4c77-b783-c2b74ac01b49",
   "metadata": {},
   "outputs": [
    {
     "name": "stdout",
     "output_type": "stream",
     "text": [
      "root\n",
      " |-- User_ID: string (nullable = true)\n",
      " |-- User_Name: string (nullable = true)\n",
      " |-- Date: string (nullable = true)\n",
      " |-- Tweet: string (nullable = true)\n",
      " |-- Length: integer (nullable = true)\n",
      "\n"
     ]
    }
   ],
   "source": [
    "df.printSchema()"
   ]
  },
  {
   "cell_type": "code",
   "execution_count": 12,
   "id": "ea797b07-736e-4a9f-a62f-a01c86c4c93b",
   "metadata": {},
   "outputs": [],
   "source": [
    "from pyspark.ml.feature import Tokenizer,StopWordsRemover, CountVectorizer,IDF,StringIndexer"
   ]
  },
  {
   "cell_type": "code",
   "execution_count": 13,
   "id": "abe9f644-6472-456a-ad91-71462678e2ca",
   "metadata": {},
   "outputs": [],
   "source": [
    "tokenizer = Tokenizer(inputCol=\"Tweet\", outputCol=\"token_text\")\n",
    "\n",
    "stop_remover = StopWordsRemover(inputCol='token_text', outputCol='stop_tokens')\n",
    "stop_remover.loadDefaultStopWords(language='portuguese')\n",
    "\n",
    "count_vec = CountVectorizer(inputCol='stop_tokens',outputCol='c_vec')\n",
    "\n",
    "idf = IDF(inputCol=\"c_vec\", outputCol=\"tf_idf\")"
   ]
  },
  {
   "cell_type": "code",
   "execution_count": 14,
   "id": "96d8a5af-52e3-40b7-bf87-2ea167c726fc",
   "metadata": {},
   "outputs": [],
   "source": [
    "from pyspark.ml.feature import VectorAssembler\n",
    "from pyspark.ml.linalg import Vector"
   ]
  },
  {
   "cell_type": "code",
   "execution_count": 15,
   "id": "41924c27-c6d5-4332-9b74-1c01eeb83c58",
   "metadata": {},
   "outputs": [],
   "source": [
    "clean_up = VectorAssembler(inputCols=['tf_idf','Length'],outputCol='features')"
   ]
  },
  {
   "cell_type": "code",
   "execution_count": 16,
   "id": "86018ef8-a09b-4c35-97ad-2ed6c3d53a45",
   "metadata": {},
   "outputs": [],
   "source": [
    "from pyspark.ml import Pipeline"
   ]
  },
  {
   "cell_type": "code",
   "execution_count": 17,
   "id": "961ed0fd-f3fb-4f2e-8368-35b8dfd06bf5",
   "metadata": {},
   "outputs": [],
   "source": [
    "data_prep_pipe = Pipeline(stages=[tokenizer,stop_remover,count_vec,idf,clean_up])"
   ]
  },
  {
   "cell_type": "code",
   "execution_count": 18,
   "id": "9aa17848-e5d9-4258-b786-773eed38046b",
   "metadata": {},
   "outputs": [],
   "source": [
    "cleaner = data_prep_pipe.fit(df)"
   ]
  },
  {
   "cell_type": "code",
   "execution_count": 19,
   "id": "f8c539ae-f52f-4867-9761-4a98f5b380c5",
   "metadata": {},
   "outputs": [],
   "source": [
    "clean_data = cleaner.transform(df)"
   ]
  },
  {
   "cell_type": "code",
   "execution_count": 21,
   "id": "64df42d3-71cb-40f5-b72b-895bbb162180",
   "metadata": {},
   "outputs": [
    {
     "name": "stdout",
     "output_type": "stream",
     "text": [
      "+-------------------+---------------+--------------------+--------------------+------+--------------------+--------------------+--------------------+--------------------+--------------------+\n",
      "|            User_ID|      User_Name|                Date|               Tweet|Length|          token_text|         stop_tokens|               c_vec|              tf_idf|            features|\n",
      "+-------------------+---------------+--------------------+--------------------+------+--------------------+--------------------+--------------------+--------------------+--------------------+\n",
      "|1411686882283511816|         lugwno|Sun Jul 04 14:02:...|RT @mckatiaafiel:...|   140|[rt, @mckatiaafie...|[rt, @mckatiaafie...|(3242,[0,1,4,6,7,...|(3242,[0,1,4,6,7,...|(3243,[0,1,4,6,7,...|\n",
      "|1411686899559940105|     Propalando|Sun Jul 04 14:02:...|@nildaalcarinque ...|    72|[@nildaalcarinque...|[@nildaalcarinque...|(3242,[0,2,3,6,8,...|(3242,[0,2,3,6,8,...|(3243,[0,2,3,6,8,...|\n",
      "|1411686906165968900|        biagfig|Sun Jul 04 14:02:...|RT @DiogoGTB: Pes...|   139|[rt, @diogogtb:, ...|[rt, @diogogtb:, ...|(3242,[0,1,2,5,9,...|(3242,[0,1,2,5,9,...|(3243,[0,1,2,5,9,...|\n",
      "|1411686921147912195|  valmirconsoni|Sun Jul 04 14:02:...|RT @caiocopolla: ...|   140|[rt, @caiocopolla...|[rt, @caiocopolla...|(3242,[0,1,4,5,6,...|(3242,[0,1,4,5,6,...|(3243,[0,1,4,5,6,...|\n",
      "|1411686933387001857|  franciscaa_99|Sun Jul 04 14:02:...|RT @Kmbitches: Ta...|   140|[rt, @kmbitches:,...|[rt, @kmbitches:,...|(3242,[1,2,3,4,5,...|(3242,[1,2,3,4,5,...|(3243,[1,2,3,4,5,...|\n",
      "|1411686945177079814|  Djasantastico|Sun Jul 04 14:02:...|RT @_makavelijone...|   140|[rt, @_makavelijo...|[rt, @_makavelijo...|(3242,[1,2,3,6,8,...|(3242,[1,2,3,6,8,...|(3243,[1,2,3,6,8,...|\n",
      "|1411686954807222278|  AurineteTiago|Sun Jul 04 14:02:...|RT @senadorhumber...|   139|[rt, @senadorhumb...|[rt, @senadorhumb...|(3242,[0,1,2,5,11...|(3242,[0,1,2,5,11...|(3243,[0,1,2,5,11...|\n",
      "|1411686885186052100|     AngeloFF04|Sun Jul 04 14:02:...|RT @Inesszinhaa: ...|    70|[rt, @inesszinhaa...|[rt, @inesszinhaa...|(3242,[1,5,6,7,13...|(3242,[1,5,6,7,13...|(3243,[1,5,6,7,13...|\n",
      "|1411686900939755523|        dehta_s|Sun Jul 04 14:02:...|RT @cinefilo_K: g...|   139|[rt, @cinefilo_k:...|[rt, @cinefilo_k:...|(3242,[0,1,2,9,34...|(3242,[0,1,2,9,34...|(3243,[0,1,2,9,34...|\n",
      "|1411686912339943425| SigefredoSouza|Sun Jul 04 14:02:...|Segundo o deputad...|   140|[segundo, o, depu...|[segundo, o, depu...|(3242,[0,2,3,5,62...|(3242,[0,2,3,5,62...|(3243,[0,2,3,5,62...|\n",
      "|1411686925224796162|_Juliana_Duarte|Sun Jul 04 14:02:...|RT @danielcarvalh...|   140|[rt, @danielcarva...|[rt, @danielcarva...|(3242,[0,1,2,3,7,...|(3242,[0,1,2,3,7,...|(3243,[0,1,2,3,7,...|\n",
      "|1411686935526051846| OriginalCarmo_|Sun Jul 04 14:02:...|RT @HelemAzevedo:...|   140|[rt, @helemazeved...|[rt, @helemazeved...|(3242,[1,2,3,6,7,...|(3242,[1,2,3,6,7,...|(3243,[1,2,3,6,7,...|\n",
      "|1411686946326384643|  JuvenazzoLuis|Sun Jul 04 14:02:...|RT @folha: Elio G...|   140|[rt, @folha:, eli...|[rt, @folha:, eli...|(3242,[0,1,4,6,7,...|(3242,[0,1,4,6,7,...|(3243,[0,1,4,6,7,...|\n",
      "|1411686956166172675|       gutoaqui|Sun Jul 04 14:02:...|Mais pela pela re...|   140|[mais, pela, pela...|[mais, pela, pela...|(3242,[0,21,27,83...|(3242,[0,21,27,83...|(3243,[0,21,27,83...|\n",
      "|1411687305270677507|    reginazolet|Sun Jul 04 14:04:...|Mesmo que sujeito...|   133|[mesmo, que, suje...|[mesmo, que, suje...|(3242,[0,3,19,29,...|(3242,[0,3,19,29,...|(3243,[0,3,19,29,...|\n",
      "|1411687313609003008|      jguedes_s|Sun Jul 04 14:04:...|Não haveria corru...|    77|[não, haveria, co...|[não, haveria, co...|(3242,[2,4,5,7,9,...|(3242,[2,4,5,7,9,...|(3243,[2,4,5,7,9,...|\n",
      "|1411687328402313221|________peralta|Sun Jul 04 14:04:...|RT @dxdxxxxxxxx: ...|   140|[rt, @dxdxxxxxxxx...|[rt, @dxdxxxxxxxx...|(3242,[1,6,17,23,...|(3242,[1,6,17,23,...|(3243,[1,6,17,23,...|\n",
      "|1411687345062092808|  Gislane_Elisa|Sun Jul 04 14:04:...|RT @caiocopolla: ...|   140|[rt, @caiocopolla...|[rt, @caiocopolla...|(3242,[0,1,4,5,6,...|(3242,[0,1,4,5,6,...|(3243,[0,1,4,5,6,...|\n",
      "|1411687349617111040|       itamarsz|Sun Jul 04 14:04:...|RT @caiocopolla: ...|   140|[rt, @caiocopolla...|[rt, @caiocopolla...|(3242,[0,1,4,5,6,...|(3242,[0,1,4,5,6,...|(3243,[0,1,4,5,6,...|\n",
      "|1411687373465849858|   SrCruelDeVil|Sun Jul 04 14:04:...|RT @OBrutoOficial...|   137|[rt, @obrutoofici...|[rt, @obrutoofici...|(3242,[1,2,6,12,1...|(3242,[1,2,6,12,1...|(3243,[1,2,6,12,1...|\n",
      "+-------------------+---------------+--------------------+--------------------+------+--------------------+--------------------+--------------------+--------------------+--------------------+\n",
      "only showing top 20 rows\n",
      "\n"
     ]
    }
   ],
   "source": [
    "clean_data.show(truncate=True)"
   ]
  },
  {
   "cell_type": "code",
   "execution_count": null,
   "id": "08cb723f-0382-4a62-a8a0-8bcef6f25c2b",
   "metadata": {},
   "outputs": [],
   "source": []
  }
 ],
 "metadata": {
  "kernelspec": {
   "display_name": "venv",
   "language": "python",
   "name": "venv"
  },
  "language_info": {
   "codemirror_mode": {
    "name": "ipython",
    "version": 3
   },
   "file_extension": ".py",
   "mimetype": "text/x-python",
   "name": "python",
   "nbconvert_exporter": "python",
   "pygments_lexer": "ipython3",
   "version": "3.8.10"
  }
 },
 "nbformat": 4,
 "nbformat_minor": 5
}
